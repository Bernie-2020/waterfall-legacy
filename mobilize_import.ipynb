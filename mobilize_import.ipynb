{
 "cells": [
  {
   "cell_type": "code",
   "execution_count": 16,
   "metadata": {
    "ExecuteTime": {
     "end_time": "2020-03-04T02:50:29.426362Z",
     "start_time": "2020-03-04T02:50:29.423367Z"
    }
   },
   "outputs": [],
   "source": [
    "import json\n",
    "import yaml\n",
    "import os\n",
    "import sys\n",
    "import re\n",
    "import pyperclip\n",
    "import importlib\n",
    "import mobilize_import as mi\n",
    "mi = importlib.reload(mi)"
   ]
  },
  {
   "cell_type": "markdown",
   "metadata": {},
   "source": [
    "### Basic example "
   ]
  },
  {
   "cell_type": "code",
   "execution_count": 2,
   "metadata": {
    "ExecuteTime": {
     "end_time": "2019-12-05T19:02:44.448461Z",
     "start_time": "2019-12-05T19:02:44.397504Z"
    }
   },
   "outputs": [],
   "source": [
    "# Create importer\n",
    "# Any keyword arguments are added to 'params', with ids and table_name being mandatory\n",
    "importer = mi.create_importer(job_id_in = [''],\n",
    "                          importer_type = 'watf',\n",
    "                                           table_name=\"waterfall.t20200205_FLD_CA_538_bulkdvc\",\n",
    "                                           exclusions=['waterfall.t20200205_535_fld_pst_barnstorms','waterfall.t20200204_fld_ca_525_oxnard_biling_canvass','waterfall.t20200204_550_fld_ca_bulkbarnstorms'\n",
    ",'waterfall.t20200204_552_union_members_barnstorm','waterfall.t20200204_549_ca_greennewdeal_barnstorm','waterfall.t20200205_oos_nv_455_oos','waterfall.t20200205_fld_mixed_496_500_501_502_debate','waterfall.t20200204_528_fld_tamale'\n",
    ",'waterfall.t20200204_538_fld_pst_dvc','waterfall.t20200205_FLD_CA_548_canvasslaunch','waterfall.t20200205_538_fld_pst_dvc','waterfall.t20200204_526_fld_baile'])\n"
   ]
  },
  {
   "cell_type": "code",
   "execution_count": 4,
   "metadata": {
    "ExecuteTime": {
     "end_time": "2019-12-03T21:28:08.708200Z",
     "start_time": "2019-12-03T21:28:08.702195Z"
    },
    "scrolled": true
   },
   "outputs": [],
   "source": [
    "#Copy to clipboard\n",
    "# Semicolon is to silence output\n",
    "importer.full_query(copy=True);"
   ]
  },
  {
   "cell_type": "markdown",
   "metadata": {},
   "source": [
    "### BULK EXAMPLE \n",
    "\n",
    "\n",
    "(uses waterfall.job_bulk_requests instead of waterfall.job_requests) \n",
    "\n",
    "Be careful about combos - this has no combos "
   ]
  },
  {
   "cell_type": "code",
   "execution_count": null,
   "metadata": {},
   "outputs": [],
   "source": [
    "# Create importer\n",
    "# Any keyword arguments are added to 'params', with ids and table_name being mandatory\n",
    "importer = mi.create_importer(job_id_in = ['538'],\n",
    "                           ## use importer_type = bulk\n",
    "                          importer_type = 'bulk',\n",
    "                                           table_name=\"waterfall.t20200205_FLD_CA_538_bulkdvc\",\n",
    "                                           exclusions=['waterfall.t20200205_535_fld_pst_barnstorms','waterfall.t20200204_fld_ca_525_oxnard_biling_canvass','waterfall.t20200204_550_fld_ca_bulkbarnstorms'\n",
    ",'waterfall.t20200204_552_union_members_barnstorm','waterfall.t20200204_549_ca_greennewdeal_barnstorm','waterfall.t20200205_oos_nv_455_oos','waterfall.t20200205_fld_mixed_496_500_501_502_debate','waterfall.t20200204_528_fld_tamale'\n",
    ",'waterfall.t20200204_538_fld_pst_dvc','waterfall.t20200205_FLD_CA_548_canvasslaunch','waterfall.t20200205_538_fld_pst_dvc','waterfall.t20200204_526_fld_baile'])\n"
   ]
  },
  {
   "cell_type": "code",
   "execution_count": null,
   "metadata": {},
   "outputs": [],
   "source": [
    "#Copy to clipboard\n",
    "importer.full_query(copy=True);"
   ]
  },
  {
   "cell_type": "markdown",
   "metadata": {},
   "source": [
    "### More complex example (many ids)"
   ]
  },
  {
   "cell_type": "code",
   "execution_count": null,
   "metadata": {
    "ExecuteTime": {
     "end_time": "2019-12-03T21:28:33.148793Z",
     "start_time": "2019-12-03T21:28:33.144790Z"
    }
   },
   "outputs": [],
   "source": [
    "long='''https://www.mobilize.us/sandersnv/event/148063/  \n",
    "https://www.mobilize.us/sandersnv/event/139859/ https://www.mobilize.us/sandersnv/event/141562/'''\n",
    "ids = mi.parse_multi_mobilize(long)\n",
    "','.join(ids)\n"
   ]
  },
  {
   "cell_type": "code",
   "execution_count": null,
   "metadata": {
    "ExecuteTime": {
     "end_time": "2019-12-03T21:28:33.533149Z",
     "start_time": "2019-12-03T21:28:33.512130Z"
    }
   },
   "outputs": [],
   "source": [
    "importer = mi.create_importer(ids=ids, \n",
    "                                           table_name=\"waterfall.text_20191107_nv_caucus101\",\n",
    "                                           distance=20,\n",
    "                                           capacity_override=25,\n",
    "                                           exclusions=['waterfall.text_pull_110619_hbcu'])"
   ]
  },
  {
   "cell_type": "code",
   "execution_count": null,
   "metadata": {
    "ExecuteTime": {
     "end_time": "2019-12-03T21:29:35.716729Z",
     "start_time": "2019-12-03T21:29:35.711725Z"
    }
   },
   "outputs": [],
   "source": [
    "importer.full_query(copy=True);"
   ]
  },
  {
   "cell_type": "markdown",
   "metadata": {},
   "source": [
    "### String substitution example:"
   ]
  },
  {
   "cell_type": "code",
   "execution_count": 49,
   "metadata": {
    "ExecuteTime": {
     "end_time": "2019-11-11T19:52:12.203059Z",
     "start_time": "2019-11-11T19:52:12.187045Z"
    }
   },
   "outputs": [
    {
     "ename": "NameError",
     "evalue": "name 'ids' is not defined",
     "output_type": "error",
     "traceback": [
      "\u001b[0;31m---------------------------------------------------------------------------\u001b[0m",
      "\u001b[0;31mNameError\u001b[0m                                 Traceback (most recent call last)",
      "\u001b[0;32m<ipython-input-49-063db303efc1>\u001b[0m in \u001b[0;36m<module>\u001b[0;34m\u001b[0m\n\u001b[0;32m----> 1\u001b[0;31m importer = create_importer(ids=ids, \n\u001b[0m\u001b[1;32m      2\u001b[0m                            \u001b[0mtable_name\u001b[0m\u001b[0;34m=\u001b[0m\u001b[0;34m\"waterfall.text_20191111_botb_OH_153668\"\u001b[0m\u001b[0;34m,\u001b[0m\u001b[0;34m\u001b[0m\u001b[0;34m\u001b[0m\u001b[0m\n\u001b[1;32m      3\u001b[0m                            \u001b[0mdistance\u001b[0m\u001b[0;34m=\u001b[0m\u001b[0;36m10\u001b[0m\u001b[0;34m,\u001b[0m\u001b[0;34m\u001b[0m\u001b[0;34m\u001b[0m\u001b[0m\n\u001b[1;32m      4\u001b[0m                            \u001b[0mcapacity_override\u001b[0m\u001b[0;34m=\u001b[0m\u001b[0;36m10\u001b[0m\u001b[0;34m,\u001b[0m\u001b[0;34m\u001b[0m\u001b[0;34m\u001b[0m\u001b[0m\n\u001b[1;32m      5\u001b[0m                            exclusions=['text_20191109_botb_in_148847',\n",
      "\u001b[0;31mNameError\u001b[0m: name 'ids' is not defined"
     ]
    }
   ],
   "source": [
    "importer = mi.create_importer(ids=ids, \n",
    "                           table_name=\"waterfall.text_20191111_botb_OH_153668\",\n",
    "                           distance=10,\n",
    "                           capacity_override=10,\n",
    "                           exclusions=['text_20191109_botb_in_148847',\n",
    "                                       'text_20191109_botb_in_153736'],\n",
    "                           importer_type='botb',\n",
    "                           string_replacements=[\n",
    "                               ('core_table_builds.mobilize_event_ids', 'bernie_tmcmanus.event_xwalk')\n",
    "                               ('other thing', 'other thing to replace')\n",
    "                           ])"
   ]
  },
  {
   "cell_type": "markdown",
   "metadata": {},
   "source": [
    "## Statewide pulls "
   ]
  },
  {
   "cell_type": "code",
   "execution_count": 36,
   "metadata": {},
   "outputs": [],
   "source": [
    "#### Importer for statewide / nationwide pullss \n",
    "importer = mi.create_importer(table_name='waterfall.t20200129_559_fld_NV_DVC',\n",
    "                                campaign_id_in='31,35,37',\n",
    "                                job_id = 559, #This is for job_tables\n",
    "                                date_abs = ['20200208','20200209'],\n",
    "                           ## must be state abbreviations with single quotes in them, as in \"'NV'\"\n",
    "                                state_in = [\"'NV'\"],\n",
    "                                exclusions=[],\n",
    "                                distance=15,\n",
    "                                capacity=30,\n",
    "                                importer_type='base'\n",
    "                           )"
   ]
  },
  {
   "cell_type": "code",
   "execution_count": null,
   "metadata": {},
   "outputs": [],
   "source": [
    "importer.full_query(copy=True);"
   ]
  },
  {
   "cell_type": "markdown",
   "metadata": {},
   "source": [
    "### Bulk Constituency example"
   ]
  },
  {
   "cell_type": "markdown",
   "metadata": {},
   "source": [
    "'constituency_view' must be equal to a view, with schema name attached -- i.e. waterfall.vw_apia; with \n",
    "columns \n",
    "* external_id\n",
    "* firstname \n",
    "* lastname\n",
    "* phone (10 digits, no +1 appended)\n",
    "* zip\n",
    "* state"
   ]
  },
  {
   "cell_type": "code",
   "execution_count": 22,
   "metadata": {},
   "outputs": [],
   "source": [
    "# Create importer\n",
    "# Any keyword arguments are added to 'params', with ids and table_name being mandatory\n",
    "importer = mi.create_importer(job_id_in = ['493'],\n",
    "                          importer_type = 'bulk_constituency',\n",
    "                                           table_name=\"waterfall.t20200205_493_fld_MN_unidoskickoff\",\n",
    "                                           exclusions=[''],\n",
    "                                           constituency_view = 'waterfall.vw_unidos')"
   ]
  },
  {
   "cell_type": "code",
   "execution_count": 23,
   "metadata": {},
   "outputs": [],
   "source": [
    "importer.full_query(copy=True);"
   ]
  },
  {
   "cell_type": "markdown",
   "metadata": {},
   "source": [
    "### Constituency example"
   ]
  },
  {
   "cell_type": "markdown",
   "metadata": {},
   "source": [
    "Similar to bulk constituency, but based on the waterfall rather than the bulk waterfall pull.\n",
    "\n",
    "'constituency_view' must be equal to a view, with schema name attached -- i.e. waterfall.vw_apia; with \n",
    "columns \n",
    "* external_id\n",
    "* firstname \n",
    "* lastname\n",
    "* phone (10 digits, no +1 appended)\n",
    "* zip\n",
    "* state"
   ]
  },
  {
   "cell_type": "code",
   "execution_count": 24,
   "metadata": {},
   "outputs": [],
   "source": [
    "# Create importer\n",
    "# Any keyword arguments are added to 'params', with ids and table_name being mandatory\n",
    "importer = mi.create_importer(job_id_in = ['493'],\n",
    "                          importer_type = 'constituency',\n",
    "                                           table_name=\"waterfall.t20200205_493_fld_MN_unidoskickoff\",\n",
    "                                           exclusions=[],\n",
    "                                           constituency_view = 'waterfall.vw_unidos')"
   ]
  },
  {
   "cell_type": "code",
   "execution_count": 25,
   "metadata": {},
   "outputs": [],
   "source": [
    "importer.full_query(copy=True);"
   ]
  },
  {
   "cell_type": "markdown",
   "metadata": {},
   "source": [
    "### FOIA data"
   ]
  },
  {
   "cell_type": "markdown",
   "metadata": {},
   "source": [
    "This is used specifically for student data by schools.\n",
    "\n",
    "Pass in a list of lists as a parameter `rows`, corresponding to (mobilize_id, institution_name) tuples.  Note that `institution_name` must exactly match the instition name in the `student_data` schema."
   ]
  },
  {
   "cell_type": "code",
   "execution_count": 18,
   "metadata": {
    "ExecuteTime": {
     "end_time": "2020-03-04T02:51:15.445664Z",
     "start_time": "2020-03-04T02:51:15.400631Z"
    }
   },
   "outputs": [],
   "source": [
    "importer = mi.create_importer(\n",
    "                          ids = [249101,249071],\n",
    "                          job_id=884,\n",
    "                          importer_type='foia',\n",
    "                          table_name = 'waterfall.t20200303_884_fld_MI_student_gotv',\n",
    "                          rows = [\n",
    "                              (249101, \"'Michigan State University'\"),\n",
    "                              (249071, \"'Michigan State University'\")\n",
    "                          ],\n",
    "    \n",
    "                          )\n",
    "importer.full_query(True);"
   ]
  },
  {
   "cell_type": "code",
   "execution_count": null,
   "metadata": {},
   "outputs": [],
   "source": []
  }
 ],
 "metadata": {
  "kernelspec": {
   "display_name": "Python 3",
   "language": "python",
   "name": "python3"
  },
  "language_info": {
   "codemirror_mode": {
    "name": "ipython",
    "version": 3
   },
   "file_extension": ".py",
   "mimetype": "text/x-python",
   "name": "python",
   "nbconvert_exporter": "python",
   "pygments_lexer": "ipython3",
   "version": "3.7.4"
  }
 },
 "nbformat": 4,
 "nbformat_minor": 2
}
